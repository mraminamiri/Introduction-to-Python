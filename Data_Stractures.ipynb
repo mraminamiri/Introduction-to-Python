{
 "cells": [
  {
   "metadata": {},
   "cell_type": "markdown",
   "source": "Chapter1 (Simple Data stractures)",
   "id": "87d7d8299f1cec5f"
  },
  {
   "metadata": {
    "ExecuteTime": {
     "end_time": "2024-12-09T20:21:38.570221Z",
     "start_time": "2024-12-09T20:21:38.566702Z"
    }
   },
   "cell_type": "code",
   "source": [
    "name = 'Alice'\n",
    "age = 23\n",
    "print('My name is {} and I am {} years old'.format(name, age))"
   ],
   "id": "5c9539eca7d58d9a",
   "outputs": [
    {
     "name": "stdout",
     "output_type": "stream",
     "text": [
      "My name is Alice and I am 23 years old\n"
     ]
    }
   ],
   "execution_count": 6
  },
  {
   "metadata": {
    "ExecuteTime": {
     "end_time": "2024-12-09T20:23:05.001046Z",
     "start_time": "2024-12-09T20:23:04.997103Z"
    }
   },
   "cell_type": "code",
   "source": "pi = 3.14159265358979\n",
   "id": "923133c345f242b8",
   "outputs": [],
   "execution_count": 8
  },
  {
   "metadata": {},
   "cell_type": "markdown",
   "source": "integer",
   "id": "40aa0cc8b04fb3b0"
  },
  {
   "metadata": {
    "ExecuteTime": {
     "end_time": "2024-12-09T20:26:28.126695Z",
     "start_time": "2024-12-09T20:26:28.123003Z"
    }
   },
   "cell_type": "code",
   "source": [
    "c = a + b \n",
    "d = a - b \n",
    "e = a * b\n",
    "f = a/b\n",
    "g = a**b "
   ],
   "id": "8f40c64d074f8ddd",
   "outputs": [],
   "execution_count": 26
  },
  {
   "metadata": {
    "ExecuteTime": {
     "end_time": "2024-12-09T20:26:27.143771Z",
     "start_time": "2024-12-09T20:26:27.140392Z"
    }
   },
   "cell_type": "code",
   "source": "a , b = 2,3",
   "id": "3f320bec182471a7",
   "outputs": [],
   "execution_count": 25
  },
  {
   "metadata": {
    "ExecuteTime": {
     "end_time": "2024-12-09T20:26:29.303008Z",
     "start_time": "2024-12-09T20:26:29.297145Z"
    }
   },
   "cell_type": "code",
   "source": "c,d,e ,f,g",
   "id": "933cd567d44b927a",
   "outputs": [
    {
     "data": {
      "text/plain": [
       "(5, -1, 6, 0.6666666666666666, 8)"
      ]
     },
     "execution_count": 27,
     "metadata": {},
     "output_type": "execute_result"
    }
   ],
   "execution_count": 27
  },
  {
   "metadata": {},
   "cell_type": "markdown",
   "source": "String",
   "id": "ca8653d2969518e1"
  },
  {
   "metadata": {
    "ExecuteTime": {
     "end_time": "2024-12-09T20:34:16.427005Z",
     "start_time": "2024-12-09T20:34:16.421219Z"
    }
   },
   "cell_type": "code",
   "source": "message = 'My name is Alice and I am 23 years old'",
   "id": "8439a84030f24af",
   "outputs": [],
   "execution_count": 28
  },
  {
   "metadata": {
    "ExecuteTime": {
     "end_time": "2024-12-09T20:34:51.342506Z",
     "start_time": "2024-12-09T20:34:51.339431Z"
    }
   },
   "cell_type": "code",
   "source": "print(message.lower())",
   "id": "3587a2843f0ddc99",
   "outputs": [
    {
     "name": "stdout",
     "output_type": "stream",
     "text": [
      "my name is alice and i am 23 years old\n"
     ]
    }
   ],
   "execution_count": 29
  },
  {
   "metadata": {
    "ExecuteTime": {
     "end_time": "2024-12-09T20:35:05.252039Z",
     "start_time": "2024-12-09T20:35:05.249127Z"
    }
   },
   "cell_type": "code",
   "source": "print(message.upper())\n",
   "id": "ef765f584176a791",
   "outputs": [
    {
     "name": "stdout",
     "output_type": "stream",
     "text": [
      "MY NAME IS ALICE AND I AM 23 YEARS OLD\n"
     ]
    }
   ],
   "execution_count": 30
  },
  {
   "metadata": {
    "ExecuteTime": {
     "end_time": "2024-12-09T20:35:10.133532Z",
     "start_time": "2024-12-09T20:35:10.130504Z"
    }
   },
   "cell_type": "code",
   "source": "print(message.title())",
   "id": "fbb66905011a7774",
   "outputs": [
    {
     "name": "stdout",
     "output_type": "stream",
     "text": [
      "My Name Is Alice And I Am 23 Years Old\n"
     ]
    }
   ],
   "execution_count": 31
  },
  {
   "metadata": {
    "ExecuteTime": {
     "end_time": "2024-12-09T20:35:21.273529Z",
     "start_time": "2024-12-09T20:35:21.269414Z"
    }
   },
   "cell_type": "code",
   "source": "print(message.capitalize())",
   "id": "bf4bf388d27d926a",
   "outputs": [
    {
     "name": "stdout",
     "output_type": "stream",
     "text": [
      "My name is alice and i am 23 years old\n"
     ]
    }
   ],
   "execution_count": 32
  },
  {
   "metadata": {
    "ExecuteTime": {
     "end_time": "2024-12-09T20:37:31.902008Z",
     "start_time": "2024-12-09T20:37:31.897683Z"
    }
   },
   "cell_type": "code",
   "source": "message.find('A')",
   "id": "1edc8b0b9ac9434",
   "outputs": [
    {
     "data": {
      "text/plain": [
       "11"
      ]
     },
     "execution_count": 39,
     "metadata": {},
     "output_type": "execute_result"
    }
   ],
   "execution_count": 39
  },
  {
   "metadata": {
    "ExecuteTime": {
     "end_time": "2024-12-09T20:38:18.083355Z",
     "start_time": "2024-12-09T20:38:18.077743Z"
    }
   },
   "cell_type": "code",
   "source": "message.replace('Alice','Bob')",
   "id": "edaebae18416599e",
   "outputs": [
    {
     "data": {
      "text/plain": [
       "'My name is Bob and I am 23 years old'"
      ]
     },
     "execution_count": 40,
     "metadata": {},
     "output_type": "execute_result"
    }
   ],
   "execution_count": 40
  },
  {
   "metadata": {
    "ExecuteTime": {
     "end_time": "2024-12-09T20:40:51.062282Z",
     "start_time": "2024-12-09T20:40:51.056904Z"
    }
   },
   "cell_type": "code",
   "source": [
    "name = 'user'\n",
    "app = 'host'\n",
    "print(f'hello {name.upper()} welcome to {app.upper()} site')"
   ],
   "id": "6d73185b5083cacc",
   "outputs": [
    {
     "name": "stdout",
     "output_type": "stream",
     "text": [
      "hello USER welcome to HOST site\n"
     ]
    }
   ],
   "execution_count": 41
  },
  {
   "metadata": {},
   "cell_type": "markdown",
   "source": "Numeric",
   "id": "6e9b96de24dbef9c"
  },
  {
   "metadata": {
    "ExecuteTime": {
     "end_time": "2024-12-10T08:08:35.906040Z",
     "start_time": "2024-12-10T08:08:35.897127Z"
    }
   },
   "cell_type": "code",
   "source": [
    "x = 23 \n",
    "pi = 3.14159265358979\n",
    "s = '34'\n",
    "int(s)"
   ],
   "id": "48214222a6a44d1c",
   "outputs": [
    {
     "data": {
      "text/plain": [
       "34"
      ]
     },
     "execution_count": 8,
     "metadata": {},
     "output_type": "execute_result"
    }
   ],
   "execution_count": 8
  },
  {
   "metadata": {
    "ExecuteTime": {
     "end_time": "2024-12-10T08:08:46.457387Z",
     "start_time": "2024-12-10T08:08:46.454544Z"
    }
   },
   "cell_type": "code",
   "source": "print(type(x),type(pi),type(int(s)))",
   "id": "605d56b16d35d0b5",
   "outputs": [
    {
     "name": "stdout",
     "output_type": "stream",
     "text": [
      "<class 'int'> <class 'float'> <class 'int'>\n"
     ]
    }
   ],
   "execution_count": 10
  },
  {
   "metadata": {
    "ExecuteTime": {
     "end_time": "2024-12-10T08:09:39.850791Z",
     "start_time": "2024-12-10T08:09:39.847634Z"
    }
   },
   "cell_type": "code",
   "source": "print(round(pi))",
   "id": "a6685c7179e498ed",
   "outputs": [
    {
     "name": "stdout",
     "output_type": "stream",
     "text": [
      "3\n"
     ]
    }
   ],
   "execution_count": 11
  },
  {
   "metadata": {
    "ExecuteTime": {
     "end_time": "2024-12-10T08:09:50.753915Z",
     "start_time": "2024-12-10T08:09:50.750974Z"
    }
   },
   "cell_type": "code",
   "source": "import math     #for oprations ",
   "id": "86ed347f2728c0f2",
   "outputs": [],
   "execution_count": 12
  },
  {
   "metadata": {},
   "cell_type": "markdown",
   "source": "list  #order is important in lists",
   "id": "771151dead363f18"
  },
  {
   "metadata": {
    "ExecuteTime": {
     "end_time": "2024-12-10T08:12:34.960249Z",
     "start_time": "2024-12-10T08:12:34.957125Z"
    }
   },
   "cell_type": "code",
   "source": "students = ['Alice','Bob','Carol','Dave',4,2] ",
   "id": "ea4935339cd784b7",
   "outputs": [],
   "execution_count": 14
  },
  {
   "metadata": {
    "ExecuteTime": {
     "end_time": "2024-12-10T08:12:44.796568Z",
     "start_time": "2024-12-10T08:12:44.793065Z"
    }
   },
   "cell_type": "code",
   "source": "len(students)",
   "id": "22e8d57d0ca2b809",
   "outputs": [
    {
     "data": {
      "text/plain": [
       "6"
      ]
     },
     "execution_count": 15,
     "metadata": {},
     "output_type": "execute_result"
    }
   ],
   "execution_count": 15
  },
  {
   "metadata": {
    "ExecuteTime": {
     "end_time": "2024-12-10T08:13:41.308599Z",
     "start_time": "2024-12-10T08:13:41.304819Z"
    }
   },
   "cell_type": "code",
   "source": "students[1:-1]",
   "id": "5eb254b71467876f",
   "outputs": [
    {
     "data": {
      "text/plain": [
       "['Bob', 'Carol', 'Dave', 4]"
      ]
     },
     "execution_count": 21,
     "metadata": {},
     "output_type": "execute_result"
    }
   ],
   "execution_count": 21
  },
  {
   "metadata": {
    "ExecuteTime": {
     "end_time": "2024-12-10T08:14:13.216929Z",
     "start_time": "2024-12-10T08:14:13.214356Z"
    }
   },
   "cell_type": "code",
   "source": "students.append('Amin')",
   "id": "6ced2322e4218b85",
   "outputs": [],
   "execution_count": 22
  },
  {
   "metadata": {
    "ExecuteTime": {
     "end_time": "2024-12-10T08:14:53.316890Z",
     "start_time": "2024-12-10T08:14:53.313396Z"
    }
   },
   "cell_type": "code",
   "source": "students.pop()",
   "id": "33fcce94d3fcfd58",
   "outputs": [
    {
     "data": {
      "text/plain": [
       "'Amin'"
      ]
     },
     "execution_count": 23,
     "metadata": {},
     "output_type": "execute_result"
    }
   ],
   "execution_count": 23
  },
  {
   "metadata": {
    "ExecuteTime": {
     "end_time": "2024-12-10T08:15:04.539831Z",
     "start_time": "2024-12-10T08:15:04.534701Z"
    }
   },
   "cell_type": "code",
   "source": "students",
   "id": "85097e46a3fe99cf",
   "outputs": [
    {
     "data": {
      "text/plain": [
       "['Alice', 'Bob', 'Carol', 'Dave', 4, 2]"
      ]
     },
     "execution_count": 24,
     "metadata": {},
     "output_type": "execute_result"
    }
   ],
   "execution_count": 24
  },
  {
   "metadata": {
    "ExecuteTime": {
     "end_time": "2024-12-10T08:21:28.765654Z",
     "start_time": "2024-12-10T08:21:28.762343Z"
    }
   },
   "cell_type": "code",
   "source": "scores = [10,1110,20,60,50,40]",
   "id": "17b8091ff44ce18a",
   "outputs": [],
   "execution_count": 26
  },
  {
   "metadata": {
    "ExecuteTime": {
     "end_time": "2024-12-10T08:21:30.888588Z",
     "start_time": "2024-12-10T08:21:30.885969Z"
    }
   },
   "cell_type": "code",
   "source": "scores.sort()",
   "id": "efff8adfe16c28a1",
   "outputs": [],
   "execution_count": 27
  },
  {
   "metadata": {
    "ExecuteTime": {
     "end_time": "2024-12-10T08:21:35.548308Z",
     "start_time": "2024-12-10T08:21:35.544264Z"
    }
   },
   "cell_type": "code",
   "source": "scores",
   "id": "18edec81fc0d2cd7",
   "outputs": [
    {
     "data": {
      "text/plain": [
       "[10, 20, 40, 50, 60, 1110]"
      ]
     },
     "execution_count": 28,
     "metadata": {},
     "output_type": "execute_result"
    }
   ],
   "execution_count": 28
  },
  {
   "metadata": {
    "ExecuteTime": {
     "end_time": "2024-12-10T08:22:22.882909Z",
     "start_time": "2024-12-10T08:22:22.880188Z"
    }
   },
   "cell_type": "code",
   "source": [
    "for i in scores:\n",
    "    print(i)"
   ],
   "id": "1efc56be1475ce1a",
   "outputs": [
    {
     "name": "stdout",
     "output_type": "stream",
     "text": [
      "10\n",
      "20\n",
      "40\n",
      "50\n",
      "60\n",
      "1110\n"
     ]
    }
   ],
   "execution_count": 29
  },
  {
   "metadata": {
    "ExecuteTime": {
     "end_time": "2024-12-10T08:36:10.896367Z",
     "start_time": "2024-12-10T08:36:10.893359Z"
    }
   },
   "cell_type": "code",
   "source": "print('Alice' in students)",
   "id": "121cac422d426dc4",
   "outputs": [
    {
     "name": "stdout",
     "output_type": "stream",
     "text": [
      "True\n"
     ]
    }
   ],
   "execution_count": 30
  },
  {
   "metadata": {
    "ExecuteTime": {
     "end_time": "2024-12-10T08:36:18.845868Z",
     "start_time": "2024-12-10T08:36:18.842989Z"
    }
   },
   "cell_type": "code",
   "source": "print('Amin' in students)\n",
   "id": "6fb822d91ef07cd0",
   "outputs": [
    {
     "name": "stdout",
     "output_type": "stream",
     "text": [
      "False\n"
     ]
    }
   ],
   "execution_count": 31
  },
  {
   "metadata": {
    "ExecuteTime": {
     "end_time": "2024-12-10T08:37:51.669008Z",
     "start_time": "2024-12-10T08:37:51.664456Z"
    }
   },
   "cell_type": "code",
   "source": [
    "for index,value in enumerate(students):\n",
    "    print(index,value)\n",
    "    "
   ],
   "id": "b82271d70398973e",
   "outputs": [
    {
     "name": "stdout",
     "output_type": "stream",
     "text": [
      "0 Alice\n",
      "1 Bob\n",
      "2 Carol\n",
      "3 Dave\n",
      "4 4\n",
      "5 2\n"
     ]
    }
   ],
   "execution_count": 34
  },
  {
   "metadata": {},
   "cell_type": "markdown",
   "source": "Touple you can not change ",
   "id": "658193aaa9d052c5"
  },
  {
   "metadata": {
    "ExecuteTime": {
     "end_time": "2024-12-10T16:14:33.218223Z",
     "start_time": "2024-12-10T16:14:33.210469Z"
    }
   },
   "cell_type": "code",
   "source": "touple = ('Alice','Bob','Carol','Dave',4,2)",
   "id": "ea67739db44fcf6",
   "outputs": [],
   "execution_count": 1
  },
  {
   "metadata": {
    "ExecuteTime": {
     "end_time": "2024-12-10T16:14:42.867724Z",
     "start_time": "2024-12-10T16:14:42.864957Z"
    }
   },
   "cell_type": "code",
   "source": "print(type(touple))",
   "id": "d84034b545775d52",
   "outputs": [
    {
     "name": "stdout",
     "output_type": "stream",
     "text": [
      "<class 'tuple'>\n"
     ]
    }
   ],
   "execution_count": 2
  },
  {
   "metadata": {},
   "cell_type": "markdown",
   "source": "List are mutable but tuples are immutable",
   "id": "ec4106b099f2afd0"
  },
  {
   "metadata": {
    "ExecuteTime": {
     "end_time": "2024-12-10T16:17:59.482965Z",
     "start_time": "2024-12-10T16:17:59.479868Z"
    }
   },
   "cell_type": "code",
   "source": "print(dir(touple))",
   "id": "1fb718ef1ea337bf",
   "outputs": [
    {
     "name": "stdout",
     "output_type": "stream",
     "text": [
      "['__add__', '__class__', '__class_getitem__', '__contains__', '__delattr__', '__dir__', '__doc__', '__eq__', '__format__', '__ge__', '__getattribute__', '__getitem__', '__getnewargs__', '__gt__', '__hash__', '__init__', '__init_subclass__', '__iter__', '__le__', '__len__', '__lt__', '__mul__', '__ne__', '__new__', '__reduce__', '__reduce_ex__', '__repr__', '__rmul__', '__setattr__', '__sizeof__', '__str__', '__subclasshook__', 'count', 'index']\n"
     ]
    }
   ],
   "execution_count": 3
  },
  {
   "metadata": {},
   "cell_type": "markdown",
   "source": "Sets",
   "id": "830b51647f830f3"
  },
  {
   "metadata": {},
   "cell_type": "markdown",
   "source": "order is not important",
   "id": "38c01d269e765d53"
  },
  {
   "metadata": {
    "ExecuteTime": {
     "end_time": "2024-12-10T16:21:15.256975Z",
     "start_time": "2024-12-10T16:21:15.250394Z"
    }
   },
   "cell_type": "code",
   "source": [
    "set = {'Alice','Bob','Carol','Dave',4,2,2,2,2,2,24,4,4,4,4,4,4,4,'Alice','Alice'}\n",
    "print(set)"
   ],
   "id": "b65ed70722e408fc",
   "outputs": [
    {
     "name": "stdout",
     "output_type": "stream",
     "text": [
      "{'Alice', 2, 4, 'Dave', 'Carol', 24, 'Bob'}\n"
     ]
    }
   ],
   "execution_count": 4
  },
  {
   "metadata": {},
   "cell_type": "markdown",
   "source": "for search in items Sets are opitmizer than other",
   "id": "5eb5e1d8fe59cf2b"
  },
  {
   "metadata": {},
   "cell_type": "code",
   "outputs": [],
   "execution_count": null,
   "source": "",
   "id": "d56ac13e4a3f7a06"
  },
  {
   "metadata": {
    "ExecuteTime": {
     "end_time": "2024-12-10T16:22:46.252150Z",
     "start_time": "2024-12-10T16:22:46.249105Z"
    }
   },
   "cell_type": "code",
   "source": "print('Alice' in set)",
   "id": "fa3cf0802191607a",
   "outputs": [
    {
     "name": "stdout",
     "output_type": "stream",
     "text": [
      "True\n"
     ]
    }
   ],
   "execution_count": 5
  },
  {
   "metadata": {},
   "cell_type": "markdown",
   "source": "Dictionary",
   "id": "1b31984d390e509a"
  },
  {
   "metadata": {},
   "cell_type": "markdown",
   "source": "Key value",
   "id": "3b60f232d55b4241"
  },
  {
   "metadata": {
    "ExecuteTime": {
     "end_time": "2024-12-10T16:34:44.912093Z",
     "start_time": "2024-12-10T16:34:44.908884Z"
    }
   },
   "cell_type": "code",
   "source": [
    "dic = {'hello':'hola','Iran':'Tehran','Russia':'Moskow'}\n",
    "print(dic)"
   ],
   "id": "3aa55212c122e63d",
   "outputs": [
    {
     "name": "stdout",
     "output_type": "stream",
     "text": [
      "{'hello': 'hola', 'Iran': 'Tehran', 'Russia': 'Moskow'}\n"
     ]
    }
   ],
   "execution_count": 6
  },
  {
   "metadata": {
    "ExecuteTime": {
     "end_time": "2024-12-10T16:38:54.693905Z",
     "start_time": "2024-12-10T16:38:54.687466Z"
    }
   },
   "cell_type": "code",
   "source": "dic['hello']",
   "id": "ff68fb47505b2ef8",
   "outputs": [
    {
     "data": {
      "text/plain": [
       "'hola'"
      ]
     },
     "execution_count": 21,
     "metadata": {},
     "output_type": "execute_result"
    }
   ],
   "execution_count": 21
  },
  {
   "metadata": {
    "ExecuteTime": {
     "end_time": "2024-12-10T16:38:39.411399Z",
     "start_time": "2024-12-10T16:38:39.409021Z"
    }
   },
   "cell_type": "code",
   "source": "print(dic.get('USA','Not Found'))",
   "id": "62c5ef2fb407706d",
   "outputs": [
    {
     "name": "stdout",
     "output_type": "stream",
     "text": [
      "Not Found\n"
     ]
    }
   ],
   "execution_count": 20
  },
  {
   "metadata": {
    "ExecuteTime": {
     "end_time": "2024-12-10T16:39:42.118059Z",
     "start_time": "2024-12-10T16:39:42.115553Z"
    }
   },
   "cell_type": "code",
   "source": "dic['USA'] = 'los Angeles'",
   "id": "b501644054640f2d",
   "outputs": [],
   "execution_count": 22
  },
  {
   "metadata": {
    "ExecuteTime": {
     "end_time": "2024-12-10T16:39:47.750733Z",
     "start_time": "2024-12-10T16:39:47.748072Z"
    }
   },
   "cell_type": "code",
   "source": "print(dic.get('USA','Not Found'))\n",
   "id": "96d2af8fe9b82cd3",
   "outputs": [
    {
     "name": "stdout",
     "output_type": "stream",
     "text": [
      "los Angeles\n"
     ]
    }
   ],
   "execution_count": 23
  },
  {
   "metadata": {
    "ExecuteTime": {
     "end_time": "2024-12-10T16:44:13.246396Z",
     "start_time": "2024-12-10T16:44:13.242921Z"
    }
   },
   "cell_type": "code",
   "source": "dic.pop('USA')",
   "id": "e14aaa021d4b5246",
   "outputs": [
    {
     "data": {
      "text/plain": [
       "'los Angeles'"
      ]
     },
     "execution_count": 24,
     "metadata": {},
     "output_type": "execute_result"
    }
   ],
   "execution_count": 24
  },
  {
   "metadata": {
    "ExecuteTime": {
     "end_time": "2024-12-10T16:44:20.241394Z",
     "start_time": "2024-12-10T16:44:20.238222Z"
    }
   },
   "cell_type": "code",
   "source": "print(dic)",
   "id": "a188dbff29ca5173",
   "outputs": [
    {
     "name": "stdout",
     "output_type": "stream",
     "text": [
      "{'hello': 'hola', 'Iran': 'Tehran', 'Russia': 'Moskow'}\n"
     ]
    }
   ],
   "execution_count": 25
  },
  {
   "metadata": {
    "ExecuteTime": {
     "end_time": "2024-12-10T16:46:03.368126Z",
     "start_time": "2024-12-10T16:46:03.365122Z"
    }
   },
   "cell_type": "code",
   "source": [
    "for key,value in dic.items():\n",
    "    print(key,'----------------->',value)"
   ],
   "id": "38593d4f3191c4c",
   "outputs": [
    {
     "name": "stdout",
     "output_type": "stream",
     "text": [
      "hello -----------------> hola\n",
      "Iran -----------------> Tehran\n",
      "Russia -----------------> Moskow\n"
     ]
    }
   ],
   "execution_count": 28
  },
  {
   "metadata": {},
   "cell_type": "code",
   "outputs": [],
   "execution_count": null,
   "source": "",
   "id": "8796927f7b169507"
  }
 ],
 "metadata": {
  "kernelspec": {
   "display_name": "Python 3",
   "language": "python",
   "name": "python3"
  },
  "language_info": {
   "codemirror_mode": {
    "name": "ipython",
    "version": 2
   },
   "file_extension": ".py",
   "mimetype": "text/x-python",
   "name": "python",
   "nbconvert_exporter": "python",
   "pygments_lexer": "ipython2",
   "version": "2.7.6"
  }
 },
 "nbformat": 4,
 "nbformat_minor": 5
}
